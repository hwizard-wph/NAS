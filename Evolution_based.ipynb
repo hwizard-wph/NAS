{
  "nbformat": 4,
  "nbformat_minor": 0,
  "metadata": {
    "colab": {
      "name": "Evolution-based.ipynb",
      "provenance": [],
      "collapsed_sections": [],
      "mount_file_id": "108RQpVhIeONrVX8v3b7WNkDHWQga9Fqn",
      "authorship_tag": "ABX9TyMJzDbePXL/wLljU3ffk6jI",
      "include_colab_link": true
    },
    "kernelspec": {
      "name": "python3",
      "display_name": "Python 3"
    },
    "language_info": {
      "name": "python"
    }
  },
  "cells": [
    {
      "cell_type": "markdown",
      "metadata": {
        "id": "view-in-github",
        "colab_type": "text"
      },
      "source": [
        "<a href=\"https://colab.research.google.com/github/hwizard-wph/NAS/blob/main/Evolution_based.ipynb\" target=\"_parent\"><img src=\"https://colab.research.google.com/assets/colab-badge.svg\" alt=\"Open In Colab\"/></a>"
      ]
    },
    {
      "cell_type": "code",
      "execution_count": null,
      "metadata": {
        "id": "GeA8fRWrm2XF"
      },
      "outputs": [],
      "source": [
        "%tensorflow_version 1.x\n",
        "!curl -O https://storage.googleapis.com/nasbench/nasbench_only108.tfrecord\n",
        "!git clone https://github.com/google-research/nasbench\n",
        "!pip install ./nasbench\n",
        "from nasbench import api\n",
        "nasbench = api.NASBench('nasbench_only108.tfrecord')"
      ]
    },
    {
      "cell_type": "code",
      "source": [
        "import copy\n",
        "import numpy as np\n",
        "import matplotlib.pyplot as plt\n",
        "import random\n",
        "\n",
        "INPUT = 'input'\n",
        "OUTPUT = 'output'\n",
        "CONV3X3 = 'conv3x3-bn-relu'\n",
        "CONV1X1 = 'conv1x1-bn-relu'\n",
        "MAXPOOL3X3 = 'maxpool3x3'\n",
        "NUM_VERTICES = 7\n",
        "MAX_EDGES = 9\n",
        "EDGE_SPOTS = NUM_VERTICES * (NUM_VERTICES - 1) / 2\n",
        "OP_SPOTS = NUM_VERTICES - 2 \n",
        "ALLOWED_OPS = [CONV3X3, CONV1X1, MAXPOOL3X3]\n",
        "ALLOWED_EDGES = [0, 1] "
      ],
      "metadata": {
        "id": "T23QXdFYkVLZ"
      },
      "execution_count": 16,
      "outputs": []
    },
    {
      "cell_type": "code",
      "source": [
        "def random_spec():\n",
        "  while True:\n",
        "    matrix = np.random.choice(ALLOWED_EDGES, size=(NUM_VERTICES, NUM_VERTICES))\n",
        "    matrix = np.triu(matrix, 1)\n",
        "    ops = np.random.choice(ALLOWED_OPS, size=(NUM_VERTICES)).tolist()\n",
        "    ops[0] = INPUT\n",
        "    ops[-1] = OUTPUT\n",
        "    spec = api.ModelSpec(matrix=matrix, ops=ops)\n",
        "    if nasbench.is_valid(spec):\n",
        "      return spec\n"
      ],
      "metadata": {
        "id": "MgZcWGxNqeVN"
      },
      "execution_count": 17,
      "outputs": []
    },
    {
      "cell_type": "code",
      "source": [
        "def mutate_spec(old_spec):\n",
        "  while True:\n",
        "    new_matrix = copy.deepcopy(old_spec.original_matrix)\n",
        "    new_ops = copy.deepcopy(old_spec.original_ops)\n",
        "    opt = random.randint(0, 1)\n",
        "    if opt == 0:\n",
        "      ind = random.randint(1, NUM_VERTICES - 2)\n",
        "      available = [o for o in nasbench.config['available_ops'] if o != new_ops[ind]]\n",
        "      new_ops[ind] = random.choice(available)\n",
        "    else :\n",
        "      while True:\n",
        "        ones = []\n",
        "        zeros = []\n",
        "        src = random.randint(0, NUM_VERTICES - 2)\n",
        "        for dst in range(src + 1, NUM_VERTICES - 1):\n",
        "          if new_matrix[src][dst] == 0 :\n",
        "            zeros.append(dst)\n",
        "          else :\n",
        "            ones.append(dst)\n",
        "        if zeros and ones :\n",
        "          one = random.choice(zeros)\n",
        "          zero = random.choice(ones)\n",
        "          new_matrix[src][one] = 1\n",
        "          new_matrix[src][zero] = 0\n",
        "          break\n",
        "    new_spec = api.ModelSpec(new_matrix, new_ops)\n",
        "    if nasbench.is_valid(new_spec):\n",
        "      return new_spec"
      ],
      "metadata": {
        "id": "ixPPjcpa2VeP"
      },
      "execution_count": 18,
      "outputs": []
    },
    {
      "cell_type": "code",
      "source": [
        "def run_evolution_search(cycles = 20000, population_size = 50, tournament_size = 10):\n",
        "  nasbench.reset_budget_counters()\n",
        "  population = []\n",
        "  history = []\n",
        "  for _ in range(population_size):\n",
        "    spec = random_spec()\n",
        "    data = nasbench.query(spec)\n",
        "    population.append((data['validation_accuracy'], spec))\n",
        "    history.append((data['validation_accuracy'], spec))\n",
        "  while len(history) < cycles:\n",
        "    sample = []\n",
        "    while len(sample) < tournament_size:\n",
        "      candidate = random.choice(population)\n",
        "      sample.append(candidate)\n",
        "    parent = max(sample, key = lambda i:i[0])\n",
        "    child_spec = mutate_spec(parent[1])\n",
        "    child_data = nasbench.query(child_spec)\n",
        "    child = (child_data['validation_accuracy'], child_spec)\n",
        "    population.append(child)\n",
        "    history.append(child)\n",
        "    population.pop(0)\n",
        "  \n",
        "  return history\n"
      ],
      "metadata": {
        "id": "tQWRROFe2UVJ"
      },
      "execution_count": 29,
      "outputs": []
    },
    {
      "cell_type": "code",
      "source": [
        "output = run_evolution_search()\n"
      ],
      "metadata": {
        "id": "dmk4qcx7Uxmf"
      },
      "execution_count": null,
      "outputs": []
    }
  ]
}