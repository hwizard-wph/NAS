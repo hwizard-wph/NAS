{
  "nbformat": 4,
  "nbformat_minor": 0,
  "metadata": {
    "colab": {
      "name": "Evolution-based.ipynb",
      "provenance": [],
      "collapsed_sections": [],
      "mount_file_id": "108RQpVhIeONrVX8v3b7WNkDHWQga9Fqn",
      "authorship_tag": "ABX9TyPZZLhhiHVAsCFUqS46Tv2J",
      "include_colab_link": true
    },
    "kernelspec": {
      "name": "python3",
      "display_name": "Python 3"
    },
    "language_info": {
      "name": "python"
    }
  },
  "cells": [
    {
      "cell_type": "markdown",
      "metadata": {
        "id": "view-in-github",
        "colab_type": "text"
      },
      "source": [
        "<a href=\"https://colab.research.google.com/github/hwizard-wph/NAS/blob/main/Evolution_based.ipynb\" target=\"_parent\"><img src=\"https://colab.research.google.com/assets/colab-badge.svg\" alt=\"Open In Colab\"/></a>"
      ]
    },
    {
      "cell_type": "code",
      "execution_count": 60,
      "metadata": {
        "id": "GeA8fRWrm2XF",
        "colab": {
          "base_uri": "https://localhost:8080/",
          "height": 905
        },
        "outputId": "9b592e67-3236-4474-94a9-563c291808fa"
      },
      "outputs": [
        {
          "output_type": "stream",
          "name": "stdout",
          "text": [
            "  % Total    % Received % Xferd  Average Speed   Time    Time     Time  Current\n",
            "                                 Dload  Upload   Total   Spent    Left  Speed\n",
            "100 1989M  100 1989M    0     0   149M      0  0:00:13  0:00:13 --:--:--  168M\n",
            "fatal: destination path 'nasbench' already exists and is not an empty directory.\n",
            "Processing ./nasbench\n",
            "\u001b[33m  DEPRECATION: A future pip version will change local packages to be built in-place without first copying to a temporary directory. We recommend you use --use-feature=in-tree-build to test your packages with this new behavior before it becomes the default.\n",
            "   pip 21.3 will remove support for this functionality. You can find discussion regarding this at https://github.com/pypa/pip/issues/7555.\u001b[0m\n",
            "Requirement already satisfied: tensorflow>=1.12.0 in /tensorflow-1.15.2/python3.7 (from nasbench==1.0) (1.15.2)\n",
            "Requirement already satisfied: grpcio>=1.8.6 in /usr/local/lib/python3.7/dist-packages (from tensorflow>=1.12.0->nasbench==1.0) (1.44.0)\n",
            "Requirement already satisfied: google-pasta>=0.1.6 in /usr/local/lib/python3.7/dist-packages (from tensorflow>=1.12.0->nasbench==1.0) (0.2.0)\n",
            "Requirement already satisfied: gast==0.2.2 in /usr/local/lib/python3.7/dist-packages (from tensorflow>=1.12.0->nasbench==1.0) (0.2.2)\n",
            "Requirement already satisfied: six>=1.10.0 in /usr/local/lib/python3.7/dist-packages (from tensorflow>=1.12.0->nasbench==1.0) (1.15.0)\n",
            "Requirement already satisfied: keras-preprocessing>=1.0.5 in /usr/local/lib/python3.7/dist-packages (from tensorflow>=1.12.0->nasbench==1.0) (1.1.2)\n",
            "Requirement already satisfied: keras-applications>=1.0.8 in /tensorflow-1.15.2/python3.7 (from tensorflow>=1.12.0->nasbench==1.0) (1.0.8)\n",
            "Requirement already satisfied: absl-py>=0.7.0 in /usr/local/lib/python3.7/dist-packages (from tensorflow>=1.12.0->nasbench==1.0) (1.0.0)\n",
            "Requirement already satisfied: opt-einsum>=2.3.2 in /usr/local/lib/python3.7/dist-packages (from tensorflow>=1.12.0->nasbench==1.0) (3.3.0)\n",
            "Requirement already satisfied: numpy<2.0,>=1.16.0 in /usr/local/lib/python3.7/dist-packages (from tensorflow>=1.12.0->nasbench==1.0) (1.21.5)\n",
            "Requirement already satisfied: tensorboard<1.16.0,>=1.15.0 in /tensorflow-1.15.2/python3.7 (from tensorflow>=1.12.0->nasbench==1.0) (1.15.0)\n",
            "Requirement already satisfied: wrapt>=1.11.1 in /usr/local/lib/python3.7/dist-packages (from tensorflow>=1.12.0->nasbench==1.0) (1.14.0)\n",
            "Requirement already satisfied: tensorflow-estimator==1.15.1 in /tensorflow-1.15.2/python3.7 (from tensorflow>=1.12.0->nasbench==1.0) (1.15.1)\n",
            "Requirement already satisfied: astor>=0.6.0 in /usr/local/lib/python3.7/dist-packages (from tensorflow>=1.12.0->nasbench==1.0) (0.8.1)\n",
            "Requirement already satisfied: termcolor>=1.1.0 in /usr/local/lib/python3.7/dist-packages (from tensorflow>=1.12.0->nasbench==1.0) (1.1.0)\n",
            "Requirement already satisfied: protobuf>=3.6.1 in /usr/local/lib/python3.7/dist-packages (from tensorflow>=1.12.0->nasbench==1.0) (3.17.3)\n",
            "Requirement already satisfied: wheel>=0.26 in /usr/local/lib/python3.7/dist-packages (from tensorflow>=1.12.0->nasbench==1.0) (0.37.1)\n",
            "Requirement already satisfied: h5py in /usr/local/lib/python3.7/dist-packages (from keras-applications>=1.0.8->tensorflow>=1.12.0->nasbench==1.0) (3.1.0)\n",
            "Requirement already satisfied: markdown>=2.6.8 in /usr/local/lib/python3.7/dist-packages (from tensorboard<1.16.0,>=1.15.0->tensorflow>=1.12.0->nasbench==1.0) (3.3.6)\n",
            "Requirement already satisfied: setuptools>=41.0.0 in /usr/local/lib/python3.7/dist-packages (from tensorboard<1.16.0,>=1.15.0->tensorflow>=1.12.0->nasbench==1.0) (57.4.0)\n",
            "Requirement already satisfied: werkzeug>=0.11.15 in /usr/local/lib/python3.7/dist-packages (from tensorboard<1.16.0,>=1.15.0->tensorflow>=1.12.0->nasbench==1.0) (1.0.1)\n",
            "Requirement already satisfied: importlib-metadata>=4.4 in /usr/local/lib/python3.7/dist-packages (from markdown>=2.6.8->tensorboard<1.16.0,>=1.15.0->tensorflow>=1.12.0->nasbench==1.0) (4.11.3)\n",
            "Requirement already satisfied: zipp>=0.5 in /usr/local/lib/python3.7/dist-packages (from importlib-metadata>=4.4->markdown>=2.6.8->tensorboard<1.16.0,>=1.15.0->tensorflow>=1.12.0->nasbench==1.0) (3.8.0)\n",
            "Requirement already satisfied: typing-extensions>=3.6.4 in /usr/local/lib/python3.7/dist-packages (from importlib-metadata>=4.4->markdown>=2.6.8->tensorboard<1.16.0,>=1.15.0->tensorflow>=1.12.0->nasbench==1.0) (4.1.1)\n",
            "Requirement already satisfied: cached-property in /usr/local/lib/python3.7/dist-packages (from h5py->keras-applications>=1.0.8->tensorflow>=1.12.0->nasbench==1.0) (1.5.2)\n",
            "Building wheels for collected packages: nasbench\n",
            "  Building wheel for nasbench (setup.py) ... \u001b[?25l\u001b[?25hdone\n",
            "  Created wheel for nasbench: filename=nasbench-1.0-py3-none-any.whl size=46788 sha256=fb38ab1953cfd4a4290d501e966fc6dcc28ecce464ba49730f5685750d711079\n",
            "  Stored in directory: /tmp/pip-ephem-wheel-cache-gdajq2ob/wheels/64/e0/f5/7eabfceccbb11fce1ab5888a8d31f59fcb43f2b5cfc53ba6d7\n",
            "Successfully built nasbench\n",
            "Installing collected packages: nasbench\n",
            "  Attempting uninstall: nasbench\n",
            "    Found existing installation: nasbench 1.0\n",
            "    Uninstalling nasbench-1.0:\n",
            "      Successfully uninstalled nasbench-1.0\n",
            "Successfully installed nasbench-1.0\n"
          ]
        },
        {
          "output_type": "display_data",
          "data": {
            "application/vnd.colab-display-data+json": {
              "pip_warning": {
                "packages": [
                  "nasbench"
                ]
              }
            }
          },
          "metadata": {}
        },
        {
          "output_type": "stream",
          "name": "stdout",
          "text": [
            "Loading dataset from file... This may take a few minutes...\n",
            "Loaded dataset in 280 seconds\n"
          ]
        }
      ],
      "source": [
        "%tensorflow_version 1.x\n",
        "!curl -O https://storage.googleapis.com/nasbench/nasbench_full.tfrecord\n",
        "!git clone https://github.com/google-research/nasbench\n",
        "!pip install ./nasbench\n",
        "from nasbench import api\n",
        "nasbench = api.NASBench('nasbench_full.tfrecord')"
      ]
    },
    {
      "cell_type": "code",
      "source": [
        "import copy\n",
        "import numpy as np\n",
        "import matplotlib.pyplot as plt\n",
        "import random\n",
        "\n",
        "INPUT = 'input'\n",
        "OUTPUT = 'output'\n",
        "CONV3X3 = 'conv3x3-bn-relu'\n",
        "CONV1X1 = 'conv1x1-bn-relu'\n",
        "MAXPOOL3X3 = 'maxpool3x3'\n",
        "NUM_VERTICES = 7\n",
        "MAX_EDGES = 9\n",
        "EDGE_SPOTS = NUM_VERTICES * (NUM_VERTICES - 1) / 2\n",
        "OP_SPOTS = NUM_VERTICES - 2 \n",
        "ALLOWED_OPS = [CONV3X3, CONV1X1, MAXPOOL3X3]\n",
        "ALLOWED_EDGES = [0, 1] "
      ],
      "metadata": {
        "id": "T23QXdFYkVLZ"
      },
      "execution_count": 61,
      "outputs": []
    },
    {
      "cell_type": "code",
      "source": [
        "def random_spec():\n",
        "  while True:\n",
        "    matrix = np.random.choice(ALLOWED_EDGES, size=(NUM_VERTICES, NUM_VERTICES))\n",
        "    matrix = np.triu(matrix, 1)\n",
        "    ops = np.random.choice(ALLOWED_OPS, size=(NUM_VERTICES)).tolist()\n",
        "    ops[0] = INPUT\n",
        "    ops[-1] = OUTPUT\n",
        "    spec = api.ModelSpec(matrix=matrix, ops=ops)\n",
        "    if nasbench.is_valid(spec):\n",
        "      return spec\n"
      ],
      "metadata": {
        "id": "MgZcWGxNqeVN"
      },
      "execution_count": 62,
      "outputs": []
    },
    {
      "cell_type": "code",
      "source": [
        "def mutate_spec(old_spec):\n",
        "  while True:\n",
        "    new_matrix = copy.deepcopy(old_spec.original_matrix)\n",
        "    new_ops = copy.deepcopy(old_spec.original_ops)\n",
        "    opt = random.randint(0, 1)\n",
        "    if opt == 0:\n",
        "      ind = random.randint(1, NUM_VERTICES - 2)\n",
        "      available = [o for o in nasbench.config['available_ops'] if o != new_ops[ind]]\n",
        "      new_ops[ind] = random.choice(available)\n",
        "    else :\n",
        "      while True:\n",
        "        ones = []\n",
        "        zeros = []\n",
        "        src = random.randint(0, NUM_VERTICES - 2)\n",
        "        for dst in range(src + 1, NUM_VERTICES - 1):\n",
        "          if new_matrix[src][dst] == 0 :\n",
        "            zeros.append(dst)\n",
        "          else :\n",
        "            ones.append(dst)\n",
        "        if zeros and ones :\n",
        "          one = random.choice(zeros)\n",
        "          zero = random.choice(ones)\n",
        "          new_matrix[src][one] = 1\n",
        "          new_matrix[src][zero] = 0\n",
        "          break\n",
        "    new_spec = api.ModelSpec(new_matrix, new_ops)\n",
        "    if nasbench.is_valid(new_spec):\n",
        "      return new_spec"
      ],
      "metadata": {
        "id": "ixPPjcpa2VeP"
      },
      "execution_count": 63,
      "outputs": []
    },
    {
      "cell_type": "code",
      "source": [
        "def run_evolution_search(cycles = 5000, population_size = 50, tournament_size = 10):\n",
        "  nasbench.reset_budget_counters()\n",
        "  population = []\n",
        "  best_vali = [0.0]\n",
        "  best_test = [0.0]\n",
        "  for _ in range(population_size):\n",
        "    spec = random_spec()\n",
        "    data = nasbench.query(spec)\n",
        "    population.append((data['validation_accuracy'], spec))\n",
        "    if data['validation_accuracy'] > best_vali[-1]:\n",
        "      best_vali.append(data['validation_accuracy'])\n",
        "      best_test.append(data['test_accuracy'])\n",
        "    else :\n",
        "      best_vali.append(best_vali[-1])\n",
        "      best_test.append(best_test[-1])\n",
        "  while len(best_vali) < cycles:\n",
        "    sample = []\n",
        "    while len(sample) < tournament_size:\n",
        "      candidate = random.choice(population)\n",
        "      sample.append(candidate)\n",
        "    parent = max(sample, key = lambda i:i[0])\n",
        "    child_spec = mutate_spec(parent[1])\n",
        "    child_data = nasbench.query(child_spec)\n",
        "    child = (child_data['validation_accuracy'], child_spec)\n",
        "    if child_data['validation_accuracy'] > best_vali[-1]:\n",
        "      best_vali.append(child_data['validation_accuracy'])\n",
        "      best_test.append(child_data['test_accuracy'])\n",
        "    else :\n",
        "      best_vali.append(best_vali[-1])\n",
        "      best_test.append(best_test[-1])\n",
        "    population.append(child)\n",
        "    population.pop(0)\n",
        "  \n",
        "  return best_vali, best_test\n"
      ],
      "metadata": {
        "id": "tQWRROFe2UVJ"
      },
      "execution_count": 74,
      "outputs": []
    },
    {
      "cell_type": "code",
      "source": [
        "res_vali, res_test = run_evolution_search()\n",
        "p = [i + 1 for i in range(5000)]\n",
        "plt.figure(figsize=(10, 5))\n",
        "plt.plot(p, res_vali, label='vali', color='red', alpha=0.5)\n",
        "plt.plot(p, res_test, label='test', color='blue', alpha=0.5)\n",
        "plt.ylim(0.92, 0.96)\n",
        "plt.ylabel('accuracy')\n",
        "plt.xlabel('model')"
      ],
      "metadata": {
        "id": "dmk4qcx7Uxmf",
        "colab": {
          "base_uri": "https://localhost:8080/",
          "height": 355
        },
        "outputId": "4c40dcea-019e-4e31-eb12-ef1fcb18db19"
      },
      "execution_count": 79,
      "outputs": [
        {
          "output_type": "execute_result",
          "data": {
            "text/plain": [
              "Text(0.5, 0, 'model')"
            ]
          },
          "metadata": {},
          "execution_count": 79
        },
        {
          "output_type": "display_data",
          "data": {
            "text/plain": [
              "<Figure size 720x360 with 1 Axes>"
            ],
            "image/png": "[encoded data removed]"
          },
          "metadata": {
            "needs_background": "light"
          }
        }
      ]
    }
  ]
}