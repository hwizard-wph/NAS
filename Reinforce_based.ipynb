{
  "nbformat": 4,
  "nbformat_minor": 0,
  "metadata": {
    "colab": {
      "name": "Reinforce-based.ipynb",
      "provenance": [],
      "collapsed_sections": [],
      "authorship_tag": "ABX9TyNRuCmN7CgLzKqe/6zaK+2D",
      "include_colab_link": true
    },
    "kernelspec": {
      "name": "python3",
      "display_name": "Python 3"
    },
    "language_info": {
      "name": "python"
    }
  },
  "cells": [
    {
      "cell_type": "markdown",
      "metadata": {
        "id": "view-in-github",
        "colab_type": "text"
      },
      "source": [
        "<a href=\"https://colab.research.google.com/github/hwizard-wph/NAS/blob/main/Reinforce_based.ipynb\" target=\"_parent\"><img src=\"https://colab.research.google.com/assets/colab-badge.svg\" alt=\"Open In Colab\"/></a>"
      ]
    },
    {
      "cell_type": "code",
      "execution_count": null,
      "metadata": {
        "id": "h8Cz5mA0HJ8D"
      },
      "outputs": [],
      "source": [
        "%tensorflow_version 1.x\n",
        "\n",
        "!curl -O https://storage.googleapis.com/nasbench/nasbench_full.tfrecord\n",
        "\n",
        "!git clone https://github.com/google-research/nasbench\n",
        "!pip install ./nasbench\n",
        "\n",
        "from nasbench import api\n",
        "\n",
        "nasbench = api.NASBench('nasbench_full.tfrecord')"
      ]
    },
    {
      "cell_type": "code",
      "source": [
        "import numpy as np\n",
        "import torch\n",
        "import torch.nn as nn\n",
        "from torch.distributions import Categorical\n",
        "\n",
        "import matplotlib\n",
        "import matplotlib.pyplot as plt\n",
        "from matplotlib.ticker import MultipleLocator\n",
        "%matplotlib inline\n",
        "%config InlineBackend.figure_format = 'svg'\n",
        "\n",
        "INPUT = 'input'\n",
        "OUTPUT = 'output'\n",
        "CONV3X3 = 'conv3x3-bn-relu'\n",
        "CONV1X1 = 'conv1x1-bn-relu'\n",
        "MAXPOOL3X3 = 'maxpool3x3'\n",
        "NUM_VERTICES = 7\n",
        "MAX_EDGES = 9\n",
        "EDGE_SPOTS = NUM_VERTICES * (NUM_VERTICES - 1) / 2\n",
        "OP_SPOTS = NUM_VERTICES - 2 \n",
        "ALLOWED_OPS = [CONV3X3, CONV1X1, MAXPOOL3X3]\n",
        "ALLOWED_EDGES = [0, 1] "
      ],
      "metadata": {
        "id": "STF8T_yVN8wY"
      },
      "execution_count": null,
      "outputs": []
    },
    {
      "cell_type": "code",
      "source": [
        "def get_spec(genotypes):\n",
        "  matrix = np.zero(NUM_VERTICES, NUM_VERTICES)\n",
        "  ops = []\n",
        "  \n"
      ],
      "metadata": {
        "id": "7fuWA5mJYyhe"
      },
      "execution_count": null,
      "outputs": []
    },
    {
      "cell_type": "code",
      "source": [
        "class Policy(nn.Module):\n",
        "  def __init__(self):\n",
        "    self.max_nodes = NUM_VERTICES\n",
        "    self.search_space = ALLOWED_OPS\n",
        "    self.edge2index = {}\n",
        "    for i in range(1, self.max_nodes):\n",
        "      for j in range(i):\n",
        "        node_str = \"{:}<-{:}\".format(i, j)\n",
        "        self.edge2index[node_str] = len(self.edge2index)\n",
        "    self.arch_parameters = nn.Parameter(1e-3 * torch.randn(len(self.edge2index), len(self.search_space)))\n",
        "  \n",
        "  def generate_arch(self, action):\n",
        "    genotypes = []\n",
        "    for i in range(1, self.max_nodes):\n",
        "        xlist = []\n",
        "        for j in range(i):\n",
        "            node_str = \"{:}<-{:}\".format(i, j)\n",
        "            op_name = self.search_space[actions[self.edge2index[node_str]]]\n",
        "            xlist.append((op_name, j))\n",
        "        genotypes.append(tuple(xlist))\n",
        "    return get_spec(genotypes)"
      ],
      "metadata": {
        "id": "bI7EedYrN-d4"
      },
      "execution_count": null,
      "outputs": []
    }
  ]
}